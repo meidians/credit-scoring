{
  "metadata": {
    "kernelspec": {
      "name": "python",
      "display_name": "Python (Pyodide)",
      "language": "python"
    },
    "language_info": {
      "codemirror_mode": {
        "name": "python",
        "version": 3
      },
      "file_extension": ".py",
      "mimetype": "text/x-python",
      "name": "python",
      "nbconvert_exporter": "python",
      "pygments_lexer": "ipython3",
      "version": "3.8"
    },
    "colab": {
      "collapsed_sections": [
        "3d-3FaKjt7yL",
        "2lJOgv50uKQA",
        "BEMqQoNluodC",
        "GbGt68xTwZEz",
        "CJoosUJTxvVo",
        "Z7BKRh2Qxw0N"
      ],
      "provenance": [],
      "toc_visible": true
    },
    "toc": {
      "base_numbering": 1,
      "nav_menu": {},
      "number_sections": true,
      "sideBar": true,
      "skip_h1_title": true,
      "title_cell": "Table of Contents",
      "title_sidebar": "Contents",
      "toc_cell": false,
      "toc_position": {
        "height": "calc(100% - 180px)",
        "left": "10px",
        "top": "150px",
        "width": "416.086px"
      },
      "toc_section_display": true,
      "toc_window_display": true
    }
  },
  "nbformat_minor": 4,
  "nbformat": 4,
  "cells": [
    {
      "cell_type": "markdown",
      "source": "# Menganalisis Risiko Gagal Bayar Peminjam\n\n",
      "metadata": {
        "id": "nCf1szMKwUld"
      }
    },
    {
      "cell_type": "markdown",
      "source": "## Pendahuluan",
      "metadata": {
        "id": "Z61tZ2lv60zL"
      }
    },
    {
      "cell_type": "markdown",
      "source": "Dalam industri perbankan, evaluasi kredit merupakan tahapan kritis dalam proses penyaluran pinjaman kepada nasabah. Tujuan utamanya adalah untuk memastikan bahwa peminjam memiliki kemampuan dan niat yang cukup untuk melunasi pinjaman mereka sesuai dengan persyaratan yang telah ditetapkan. Evaluasi kredit yang baik membantu bank dalam mengelola risiko kreditnya, meminimalkan kemungkinan gagal bayar, dan menjaga kesehatan keuangan institusi.\n\nDalam konteks ini, faktor-faktor seperti status perkawinan dan jumlah anak yang dimiliki oleh seorang nasabah dapat menjadi indikator penting dalam menilai kelayakan kredit. Status perkawinan dapat mencerminkan stabilitas keuangan dan tanggung jawab finansial seorang nasabah, sedangkan jumlah anak dapat mempengaruhi tingkat ketergantungan finansial dan fleksibilitas anggaran mereka.\n",
      "metadata": {}
    },
    {
      "cell_type": "markdown",
      "source": "## Tujuan Penelitian",
      "metadata": {}
    },
    {
      "cell_type": "markdown",
      "source": "Laporan ini untuk divisi kredit suatu bank. Laporan ini akan menganalisis dan mencari tahu pengaruh status perkawinan seorang nasabah dan jumlah anak yang dimilikinya terhadap probabilitas gagal bayar dalam pelunasan pinjaman.\n\nPihak bank telah memiliki beberapa data mengenai kelayakan kredit nasabah.",
      "metadata": {}
    },
    {
      "cell_type": "markdown",
      "source": "## Manfaat Penelitian",
      "metadata": {}
    },
    {
      "cell_type": "markdown",
      "source": "Laporan ini dapat menjadi pertimbangan dalam membuat **penilaian kredit** untuk calon nasabah. **Penilaian kredit** sendiri digunakan untuk mengevaluasi kemampuan calon peminjam guna melunasi pinjaman nasabah.",
      "metadata": {}
    },
    {
      "cell_type": "markdown",
      "source": "## Daftar Isi",
      "metadata": {}
    },
    {
      "cell_type": "markdown",
      "source": "**1 Pendahuluan**\n\n**2 Tujuan Penelitian** \n\n**3 Manfaat Penelitian** \n\n**4 Daftar Isi**\n\n**5 Langkah Penelitian** \n\n\t5.1 Mengimpor Library \n\n\t5.2 Memuat Data \n\n\t5.3 Eksplorasi Data \n\n\t5.4 Menghapus Nilai Duplikat\n\n\t5.5 Transformasi Data\n\n\t\t5.5.1 Transformasi Data pada Kolom debt\n\n\t\t5.5.2 Transformasi Data pada Kolom total_incone\n\n\t\t5.5.3 Transformasi Data pada Kolom income_type\n\n\t\t5.5.4 Transformasi Data pada Kolom fanily_status dan family_status_id\n\n\t\t5.5.5 Transformasi Data pada Kolom education dan education_id\n\n\t\t5.5.6 Transformasi Data pada Kolom gender\n\n\t\t5.5.7 Transformasi Data pada Kolom children\n\n\t\t5.5.8 Transformasi Data pada Kolom dob_years\n\n\t\t5.5.9 Transformasi Data pada Kolom days_employed\n\n\t\t5.5.10 Transformasi Data pada Kolom purpose \n\n\t\t5.5.11 Mengisi Nilai yang Hilang pada Kolom days employed\n\n\t\t\t5.5.11.1 Pembuatan Kolom Baru dob_category dan dob_category_id\n\n\t\t\t5.5.11.2 Mengisi Nilai yang Hilang pada Kolom days_employed\n\n\t\t\t\t\t\tpada Nasabah dengan Kategori Umur young\n\n\t\t\t5.5.11.3 Mengisi Nilai yang Hilang pada Kolom days_employed\n\n\t\t\t\t\t\tpada Nasabah dengan Kategori Umur adult\n\n\t\t\t5.5.11.4 Mengisi Nilai yang Hilang pada Kolom days_employed\n\n\t\t\t\t\t\tpada Nasabah dengan Kategori Umur senior\n\n\t\t5.5.12 Mengisi Nilai yang Hilang pada Kolom total_income\n\n\t\t\t5.5.12.1 Mengisi Nilai yang Hilang pada Kolom total_income\n\n                        pada Nasabah dengan Kategori Umur young\n\n\t\t\t5.5.12.2 Mengisi Nilai yang Hilang pada Kolom total_income\n\n\t\t\t\t\t\tpada Nasabah dengan Kategori Umur adult\n\n\t\t\t5.5.12.3 Mengisi Nila yang Hilang pada Kolom total_income\n\n\t\t\t\t\t\tpada Nasabah dengan Kategori Umur senior\n\n\t5.6 Pengkategorian Data\n\n\t\t5.6.1 Pembuatan Kolom Bar total_income_category\n\n\t\t\t\tdan total_income_category_id \n\n\t\t5.6.2 Pembuatan kolom bar children_category dan children_category_id\n\n\t\t5.6.3 Pembuatan Kolom Baru Bernama purpose_id\n\n\t5.7 Memeriksa Hipotesis\n\n\t\t5.7.1 Korelasi antara Memiliki anak dengan Probabilitas Gagal Bayar Pinjaman\n\n\t\t5.7.2 Korelasi antara Status Keluarga dengan Probabilitas Gagal Bayar Pinjaman\n\n\t\t5.7.3 Korelasi antara Tingkat Pendapatan dengan Probabilitas Gaga Bayar Pinjaman\n\n\t\t5.7.4 Korelasi antara Tujuan Kredit dengan Probabilitas Gagal Bayar Pinjaman\n\n**6 Kesimpulan Umum**\n\n",
      "metadata": {}
    },
    {
      "cell_type": "markdown",
      "source": "## Langkah Penelitian",
      "metadata": {}
    },
    {
      "cell_type": "markdown",
      "source": "### Mengimpor Library",
      "metadata": {}
    },
    {
      "cell_type": "code",
      "source": "# -Mengimpor library\n\nimport pandas as pd\n# ----------\n",
      "metadata": {},
      "outputs": [],
      "execution_count": 1
    },
    {
      "cell_type": "markdown",
      "source": "### Memuat Data",
      "metadata": {}
    },
    {
      "cell_type": "code",
      "source": "# -Memuat Data\n\ncustomers = pd.read_csv('/datasets/credit_scoring_eng.csv')\n# ----------\n",
      "metadata": {},
      "outputs": [],
      "execution_count": 2
    },
    {
      "cell_type": "markdown",
      "source": "### Eksplorasi Data",
      "metadata": {}
    },
    {
      "cell_type": "code",
      "source": "# Mari kita lihat berapa banyak baris dan kolom yang dimiliki oleh dataset kita\n\ncustomers.info()\n# ----------\n",
      "metadata": {},
      "outputs": [
        {
          "name": "stdout",
          "output_type": "stream",
          "text": [
            "<class 'pandas.core.frame.DataFrame'>\n",
            "RangeIndex: 21525 entries, 0 to 21524\n",
            "Data columns (total 12 columns):\n",
            " #   Column            Non-Null Count  Dtype  \n",
            "---  ------            --------------  -----  \n",
            " 0   children          21525 non-null  int64  \n",
            " 1   days_employed     19351 non-null  float64\n",
            " 2   dob_years         21525 non-null  int64  \n",
            " 3   education         21525 non-null  object \n",
            " 4   education_id      21525 non-null  int64  \n",
            " 5   family_status     21525 non-null  object \n",
            " 6   family_status_id  21525 non-null  int64  \n",
            " 7   gender            21525 non-null  object \n",
            " 8   income_type       21525 non-null  object \n",
            " 9   debt              21525 non-null  int64  \n",
            " 10  total_income      19351 non-null  float64\n",
            " 11  purpose           21525 non-null  object \n",
            "dtypes: float64(2), int64(5), object(5)\n",
            "memory usage: 2.0+ MB\n"
          ]
        }
      ],
      "execution_count": 3
    },
    {
      "cell_type": "code",
      "source": "\ncustomers.head()\n\n# ----------\n",
      "metadata": {},
      "outputs": [
        {
          "data": {
            "text/html": [
              "<div>\n",
              "<style scoped>\n",
              "    .dataframe tbody tr th:only-of-type {\n",
              "        vertical-align: middle;\n",
              "    }\n",
              "\n",
              "    .dataframe tbody tr th {\n",
              "        vertical-align: top;\n",
              "    }\n",
              "\n",
              "    .dataframe thead th {\n",
              "        text-align: right;\n",
              "    }\n",
              "</style>\n",
              "<table border=\"1\" class=\"dataframe\">\n",
              "  <thead>\n",
              "    <tr style=\"text-align: right;\">\n",
              "      <th></th>\n",
              "      <th>children</th>\n",
              "      <th>days_employed</th>\n",
              "      <th>dob_years</th>\n",
              "      <th>education</th>\n",
              "      <th>education_id</th>\n",
              "      <th>family_status</th>\n",
              "      <th>family_status_id</th>\n",
              "      <th>gender</th>\n",
              "      <th>income_type</th>\n",
              "      <th>debt</th>\n",
              "      <th>total_income</th>\n",
              "      <th>purpose</th>\n",
              "    </tr>\n",
              "  </thead>\n",
              "  <tbody>\n",
              "    <tr>\n",
              "      <th>0</th>\n",
              "      <td>1</td>\n",
              "      <td>-8437.673028</td>\n",
              "      <td>42</td>\n",
              "      <td>bachelor's degree</td>\n",
              "      <td>0</td>\n",
              "      <td>married</td>\n",
              "      <td>0</td>\n",
              "      <td>F</td>\n",
              "      <td>employee</td>\n",
              "      <td>0</td>\n",
              "      <td>40620.102</td>\n",
              "      <td>purchase of the house</td>\n",
              "    </tr>\n",
              "    <tr>\n",
              "      <th>1</th>\n",
              "      <td>1</td>\n",
              "      <td>-4024.803754</td>\n",
              "      <td>36</td>\n",
              "      <td>secondary education</td>\n",
              "      <td>1</td>\n",
              "      <td>married</td>\n",
              "      <td>0</td>\n",
              "      <td>F</td>\n",
              "      <td>employee</td>\n",
              "      <td>0</td>\n",
              "      <td>17932.802</td>\n",
              "      <td>car purchase</td>\n",
              "    </tr>\n",
              "    <tr>\n",
              "      <th>2</th>\n",
              "      <td>0</td>\n",
              "      <td>-5623.422610</td>\n",
              "      <td>33</td>\n",
              "      <td>Secondary Education</td>\n",
              "      <td>1</td>\n",
              "      <td>married</td>\n",
              "      <td>0</td>\n",
              "      <td>M</td>\n",
              "      <td>employee</td>\n",
              "      <td>0</td>\n",
              "      <td>23341.752</td>\n",
              "      <td>purchase of the house</td>\n",
              "    </tr>\n",
              "    <tr>\n",
              "      <th>3</th>\n",
              "      <td>3</td>\n",
              "      <td>-4124.747207</td>\n",
              "      <td>32</td>\n",
              "      <td>secondary education</td>\n",
              "      <td>1</td>\n",
              "      <td>married</td>\n",
              "      <td>0</td>\n",
              "      <td>M</td>\n",
              "      <td>employee</td>\n",
              "      <td>0</td>\n",
              "      <td>42820.568</td>\n",
              "      <td>supplementary education</td>\n",
              "    </tr>\n",
              "    <tr>\n",
              "      <th>4</th>\n",
              "      <td>0</td>\n",
              "      <td>340266.072047</td>\n",
              "      <td>53</td>\n",
              "      <td>secondary education</td>\n",
              "      <td>1</td>\n",
              "      <td>civil partnership</td>\n",
              "      <td>1</td>\n",
              "      <td>F</td>\n",
              "      <td>retiree</td>\n",
              "      <td>0</td>\n",
              "      <td>25378.572</td>\n",
              "      <td>to have a wedding</td>\n",
              "    </tr>\n",
              "  </tbody>\n",
              "</table>\n",
              "</div>"
            ],
            "text/plain": [
              "   children  days_employed  dob_years            education  education_id  \\\n",
              "0         1   -8437.673028         42    bachelor's degree             0   \n",
              "1         1   -4024.803754         36  secondary education             1   \n",
              "2         0   -5623.422610         33  Secondary Education             1   \n",
              "3         3   -4124.747207         32  secondary education             1   \n",
              "4         0  340266.072047         53  secondary education             1   \n",
              "\n",
              "       family_status  family_status_id gender income_type  debt  total_income  \\\n",
              "0            married                 0      F    employee     0     40620.102   \n",
              "1            married                 0      F    employee     0     17932.802   \n",
              "2            married                 0      M    employee     0     23341.752   \n",
              "3            married                 0      M    employee     0     42820.568   \n",
              "4  civil partnership                 1      F     retiree     0     25378.572   \n",
              "\n",
              "                   purpose  \n",
              "0    purchase of the house  \n",
              "1             car purchase  \n",
              "2    purchase of the house  \n",
              "3  supplementary education  \n",
              "4        to have a wedding  "
            ]
          },
          "execution_count": 4,
          "metadata": {},
          "output_type": "execute_result"
        }
      ],
      "execution_count": 4
    },
    {
      "cell_type": "markdown",
      "source": "**Deskripsi data**\n\nDataset memiliki 10 kolom sebagai berikut:\n- `children` - jumlah anak dalam keluarga\n- `days_employed` - pengalaman kerja nasabah dalam hari\n- `dob_years` - usia nasabah dalam tahun\n- `education` - tingkat pendidikan nasabah\n- `education_id` - pengidentifikasi untuk tingkat pendidikan nasabah\n- `family_status` - status perkawinan\n- `family_status_id` - pengidentifikasi untuk status perkawinan nasabah\n- `gender` - jenis kelamin nasabah\n- `income_type` - jenis pekerjaan\n- `debt` - apakah nasabah pernah melakukan gagal bayar pinjaman\n- `total_income` - pendapatan bulanan, tidak diketahui apa mata uang yang digunakan dalam data ini\n- `purpose` - tujuan mendapatkan pinjaman\n\nTerlihat bahwa data ini memiliki 21.525 baris dan 12 kolom. Namun ada dua kolom yang hanya memiliki 19.351 baris, yaitu `days_employed` dan `total_income`. Artinya, kedua kolom tersebut memiliki nilai yang hilang.\n",
      "metadata": {}
    },
    {
      "cell_type": "markdown",
      "source": "### Menghapus Nilai Duplikat",
      "metadata": {}
    },
    {
      "cell_type": "code",
      "source": "customers.duplicated().sum()",
      "metadata": {},
      "outputs": [
        {
          "data": {
            "text/plain": [
              "54"
            ]
          },
          "execution_count": 5,
          "metadata": {},
          "output_type": "execute_result"
        }
      ],
      "execution_count": 5
    },
    {
      "cell_type": "markdown",
      "source": "Ada 54 duplikat pada dataframe.!",
      "metadata": {}
    },
    {
      "cell_type": "code",
      "source": "# menghapus duplikat\n\ncustomers = customers.drop_duplicates()\n\ncustomers.reset_index(drop=True)\n",
      "metadata": {},
      "outputs": [
        {
          "data": {
            "text/html": [
              "<div>\n",
              "<style scoped>\n",
              "    .dataframe tbody tr th:only-of-type {\n",
              "        vertical-align: middle;\n",
              "    }\n",
              "\n",
              "    .dataframe tbody tr th {\n",
              "        vertical-align: top;\n",
              "    }\n",
              "\n",
              "    .dataframe thead th {\n",
              "        text-align: right;\n",
              "    }\n",
              "</style>\n",
              "<table border=\"1\" class=\"dataframe\">\n",
              "  <thead>\n",
              "    <tr style=\"text-align: right;\">\n",
              "      <th></th>\n",
              "      <th>children</th>\n",
              "      <th>days_employed</th>\n",
              "      <th>dob_years</th>\n",
              "      <th>education</th>\n",
              "      <th>education_id</th>\n",
              "      <th>family_status</th>\n",
              "      <th>family_status_id</th>\n",
              "      <th>gender</th>\n",
              "      <th>income_type</th>\n",
              "      <th>debt</th>\n",
              "      <th>total_income</th>\n",
              "      <th>purpose</th>\n",
              "    </tr>\n",
              "  </thead>\n",
              "  <tbody>\n",
              "    <tr>\n",
              "      <th>0</th>\n",
              "      <td>1</td>\n",
              "      <td>-8437.673028</td>\n",
              "      <td>42</td>\n",
              "      <td>bachelor's degree</td>\n",
              "      <td>0</td>\n",
              "      <td>married</td>\n",
              "      <td>0</td>\n",
              "      <td>F</td>\n",
              "      <td>employee</td>\n",
              "      <td>0</td>\n",
              "      <td>40620.102</td>\n",
              "      <td>purchase of the house</td>\n",
              "    </tr>\n",
              "    <tr>\n",
              "      <th>1</th>\n",
              "      <td>1</td>\n",
              "      <td>-4024.803754</td>\n",
              "      <td>36</td>\n",
              "      <td>secondary education</td>\n",
              "      <td>1</td>\n",
              "      <td>married</td>\n",
              "      <td>0</td>\n",
              "      <td>F</td>\n",
              "      <td>employee</td>\n",
              "      <td>0</td>\n",
              "      <td>17932.802</td>\n",
              "      <td>car purchase</td>\n",
              "    </tr>\n",
              "    <tr>\n",
              "      <th>2</th>\n",
              "      <td>0</td>\n",
              "      <td>-5623.422610</td>\n",
              "      <td>33</td>\n",
              "      <td>Secondary Education</td>\n",
              "      <td>1</td>\n",
              "      <td>married</td>\n",
              "      <td>0</td>\n",
              "      <td>M</td>\n",
              "      <td>employee</td>\n",
              "      <td>0</td>\n",
              "      <td>23341.752</td>\n",
              "      <td>purchase of the house</td>\n",
              "    </tr>\n",
              "    <tr>\n",
              "      <th>3</th>\n",
              "      <td>3</td>\n",
              "      <td>-4124.747207</td>\n",
              "      <td>32</td>\n",
              "      <td>secondary education</td>\n",
              "      <td>1</td>\n",
              "      <td>married</td>\n",
              "      <td>0</td>\n",
              "      <td>M</td>\n",
              "      <td>employee</td>\n",
              "      <td>0</td>\n",
              "      <td>42820.568</td>\n",
              "      <td>supplementary education</td>\n",
              "    </tr>\n",
              "    <tr>\n",
              "      <th>4</th>\n",
              "      <td>0</td>\n",
              "      <td>340266.072047</td>\n",
              "      <td>53</td>\n",
              "      <td>secondary education</td>\n",
              "      <td>1</td>\n",
              "      <td>civil partnership</td>\n",
              "      <td>1</td>\n",
              "      <td>F</td>\n",
              "      <td>retiree</td>\n",
              "      <td>0</td>\n",
              "      <td>25378.572</td>\n",
              "      <td>to have a wedding</td>\n",
              "    </tr>\n",
              "    <tr>\n",
              "      <th>...</th>\n",
              "      <td>...</td>\n",
              "      <td>...</td>\n",
              "      <td>...</td>\n",
              "      <td>...</td>\n",
              "      <td>...</td>\n",
              "      <td>...</td>\n",
              "      <td>...</td>\n",
              "      <td>...</td>\n",
              "      <td>...</td>\n",
              "      <td>...</td>\n",
              "      <td>...</td>\n",
              "      <td>...</td>\n",
              "    </tr>\n",
              "    <tr>\n",
              "      <th>21466</th>\n",
              "      <td>1</td>\n",
              "      <td>-4529.316663</td>\n",
              "      <td>43</td>\n",
              "      <td>secondary education</td>\n",
              "      <td>1</td>\n",
              "      <td>civil partnership</td>\n",
              "      <td>1</td>\n",
              "      <td>F</td>\n",
              "      <td>business</td>\n",
              "      <td>0</td>\n",
              "      <td>35966.698</td>\n",
              "      <td>housing transactions</td>\n",
              "    </tr>\n",
              "    <tr>\n",
              "      <th>21467</th>\n",
              "      <td>0</td>\n",
              "      <td>343937.404131</td>\n",
              "      <td>67</td>\n",
              "      <td>secondary education</td>\n",
              "      <td>1</td>\n",
              "      <td>married</td>\n",
              "      <td>0</td>\n",
              "      <td>F</td>\n",
              "      <td>retiree</td>\n",
              "      <td>0</td>\n",
              "      <td>24959.969</td>\n",
              "      <td>purchase of a car</td>\n",
              "    </tr>\n",
              "    <tr>\n",
              "      <th>21468</th>\n",
              "      <td>1</td>\n",
              "      <td>-2113.346888</td>\n",
              "      <td>38</td>\n",
              "      <td>secondary education</td>\n",
              "      <td>1</td>\n",
              "      <td>civil partnership</td>\n",
              "      <td>1</td>\n",
              "      <td>M</td>\n",
              "      <td>employee</td>\n",
              "      <td>1</td>\n",
              "      <td>14347.610</td>\n",
              "      <td>property</td>\n",
              "    </tr>\n",
              "    <tr>\n",
              "      <th>21469</th>\n",
              "      <td>3</td>\n",
              "      <td>-3112.481705</td>\n",
              "      <td>38</td>\n",
              "      <td>secondary education</td>\n",
              "      <td>1</td>\n",
              "      <td>married</td>\n",
              "      <td>0</td>\n",
              "      <td>M</td>\n",
              "      <td>employee</td>\n",
              "      <td>1</td>\n",
              "      <td>39054.888</td>\n",
              "      <td>buying my own car</td>\n",
              "    </tr>\n",
              "    <tr>\n",
              "      <th>21470</th>\n",
              "      <td>2</td>\n",
              "      <td>-1984.507589</td>\n",
              "      <td>40</td>\n",
              "      <td>secondary education</td>\n",
              "      <td>1</td>\n",
              "      <td>married</td>\n",
              "      <td>0</td>\n",
              "      <td>F</td>\n",
              "      <td>employee</td>\n",
              "      <td>0</td>\n",
              "      <td>13127.587</td>\n",
              "      <td>to buy a car</td>\n",
              "    </tr>\n",
              "  </tbody>\n",
              "</table>\n",
              "<p>21471 rows × 12 columns</p>\n",
              "</div>"
            ],
            "text/plain": [
              "       children  days_employed  dob_years            education  education_id  \\\n",
              "0             1   -8437.673028         42    bachelor's degree             0   \n",
              "1             1   -4024.803754         36  secondary education             1   \n",
              "2             0   -5623.422610         33  Secondary Education             1   \n",
              "3             3   -4124.747207         32  secondary education             1   \n",
              "4             0  340266.072047         53  secondary education             1   \n",
              "...         ...            ...        ...                  ...           ...   \n",
              "21466         1   -4529.316663         43  secondary education             1   \n",
              "21467         0  343937.404131         67  secondary education             1   \n",
              "21468         1   -2113.346888         38  secondary education             1   \n",
              "21469         3   -3112.481705         38  secondary education             1   \n",
              "21470         2   -1984.507589         40  secondary education             1   \n",
              "\n",
              "           family_status  family_status_id gender income_type  debt  \\\n",
              "0                married                 0      F    employee     0   \n",
              "1                married                 0      F    employee     0   \n",
              "2                married                 0      M    employee     0   \n",
              "3                married                 0      M    employee     0   \n",
              "4      civil partnership                 1      F     retiree     0   \n",
              "...                  ...               ...    ...         ...   ...   \n",
              "21466  civil partnership                 1      F    business     0   \n",
              "21467            married                 0      F     retiree     0   \n",
              "21468  civil partnership                 1      M    employee     1   \n",
              "21469            married                 0      M    employee     1   \n",
              "21470            married                 0      F    employee     0   \n",
              "\n",
              "       total_income                  purpose  \n",
              "0         40620.102    purchase of the house  \n",
              "1         17932.802             car purchase  \n",
              "2         23341.752    purchase of the house  \n",
              "3         42820.568  supplementary education  \n",
              "4         25378.572        to have a wedding  \n",
              "...             ...                      ...  \n",
              "21466     35966.698     housing transactions  \n",
              "21467     24959.969        purchase of a car  \n",
              "21468     14347.610                 property  \n",
              "21469     39054.888        buying my own car  \n",
              "21470     13127.587             to buy a car  \n",
              "\n",
              "[21471 rows x 12 columns]"
            ]
          },
          "execution_count": 6,
          "metadata": {},
          "output_type": "execute_result"
        }
      ],
      "execution_count": 6
    },
    {
      "cell_type": "markdown",
      "source": "Saya akan mengecek kembali apakah masih ada nilai duplikat.",
      "metadata": {}
    },
    {
      "cell_type": "code",
      "source": "customers.duplicated().sum()",
      "metadata": {},
      "outputs": [
        {
          "data": {
            "text/plain": [
              "0"
            ]
          },
          "execution_count": 7,
          "metadata": {},
          "output_type": "execute_result"
        }
      ],
      "execution_count": 7
    },
    {
      "cell_type": "markdown",
      "source": "Masalah duplikat telah teratasi.",
      "metadata": {}
    },
    {
      "cell_type": "markdown",
      "source": "### Transformasi Data",
      "metadata": {}
    },
    {
      "cell_type": "markdown",
      "source": "#### Transformasi Data pada Kolom  `debt`",
      "metadata": {}
    },
    {
      "cell_type": "code",
      "source": "# menampilkan list unik pada kolom ‘debt’\n\ncustomers['debt'].unique().tolist()",
      "metadata": {},
      "outputs": [
        {
          "data": {
            "text/plain": [
              "[0, 1]"
            ]
          },
          "execution_count": 8,
          "metadata": {},
          "output_type": "execute_result"
        }
      ],
      "execution_count": 8
    },
    {
      "cell_type": "markdown",
      "source": "Tidak ada masalah pada kolom `debt`.",
      "metadata": {}
    },
    {
      "cell_type": "markdown",
      "source": "#### Transformasi Data pada Kolom  `total_income`",
      "metadata": {}
    },
    {
      "cell_type": "code",
      "source": "# menampilkan list unik pada kolom ‘total_income’\n\n\ncustomers['total_income'].describe()",
      "metadata": {},
      "outputs": [
        {
          "data": {
            "text/plain": [
              "count     19351.000000\n",
              "mean      26787.568355\n",
              "std       16475.450632\n",
              "min        3306.762000\n",
              "25%       16488.504500\n",
              "50%       23202.870000\n",
              "75%       32549.611000\n",
              "max      362496.645000\n",
              "Name: total_income, dtype: float64"
            ]
          },
          "execution_count": 9,
          "metadata": {},
          "output_type": "execute_result"
        }
      ],
      "execution_count": 9
    },
    {
      "cell_type": "markdown",
      "source": "Tidak ada masalah pada kolom `total_income`",
      "metadata": {}
    },
    {
      "cell_type": "markdown",
      "source": "#### Transformasi Data pada Kolom  `income_type`",
      "metadata": {}
    },
    {
      "cell_type": "code",
      "source": "# menampilkan list unik pada kolom ‘income_tye’\n\ncustomers['income_type'].unique().tolist()",
      "metadata": {},
      "outputs": [
        {
          "data": {
            "text/plain": [
              "['employee',\n",
              " 'retiree',\n",
              " 'business',\n",
              " 'civil servant',\n",
              " 'unemployed',\n",
              " 'entrepreneur',\n",
              " 'student',\n",
              " 'paternity / maternity leave']"
            ]
          },
          "execution_count": 10,
          "metadata": {},
          "output_type": "execute_result"
        }
      ],
      "execution_count": 10
    },
    {
      "cell_type": "markdown",
      "source": "Tidak ada masalah pada kolom `income_type`.",
      "metadata": {}
    },
    {
      "cell_type": "markdown",
      "source": "#### Transformasi Data pada Kolom  `family_status` dan `family_status_id`",
      "metadata": {}
    },
    {
      "cell_type": "code",
      "source": "# menampilkan list unik pada kolom ‘family_status’\n\ncustomers['family_status'].unique().tolist()",
      "metadata": {},
      "outputs": [
        {
          "data": {
            "text/plain": [
              "['married', 'civil partnership', 'widow / widower', 'divorced', 'unmarried']"
            ]
          },
          "execution_count": 11,
          "metadata": {},
          "output_type": "execute_result"
        }
      ],
      "execution_count": 11
    },
    {
      "cell_type": "code",
      "source": "# Menampilkan kolom family_status_id\n\ncustomers[['family_status','family_status_id']]",
      "metadata": {},
      "outputs": [
        {
          "data": {
            "text/html": [
              "<div>\n",
              "<style scoped>\n",
              "    .dataframe tbody tr th:only-of-type {\n",
              "        vertical-align: middle;\n",
              "    }\n",
              "\n",
              "    .dataframe tbody tr th {\n",
              "        vertical-align: top;\n",
              "    }\n",
              "\n",
              "    .dataframe thead th {\n",
              "        text-align: right;\n",
              "    }\n",
              "</style>\n",
              "<table border=\"1\" class=\"dataframe\">\n",
              "  <thead>\n",
              "    <tr style=\"text-align: right;\">\n",
              "      <th></th>\n",
              "      <th>family_status</th>\n",
              "      <th>family_status_id</th>\n",
              "    </tr>\n",
              "  </thead>\n",
              "  <tbody>\n",
              "    <tr>\n",
              "      <th>0</th>\n",
              "      <td>married</td>\n",
              "      <td>0</td>\n",
              "    </tr>\n",
              "    <tr>\n",
              "      <th>1</th>\n",
              "      <td>married</td>\n",
              "      <td>0</td>\n",
              "    </tr>\n",
              "    <tr>\n",
              "      <th>2</th>\n",
              "      <td>married</td>\n",
              "      <td>0</td>\n",
              "    </tr>\n",
              "    <tr>\n",
              "      <th>3</th>\n",
              "      <td>married</td>\n",
              "      <td>0</td>\n",
              "    </tr>\n",
              "    <tr>\n",
              "      <th>4</th>\n",
              "      <td>civil partnership</td>\n",
              "      <td>1</td>\n",
              "    </tr>\n",
              "    <tr>\n",
              "      <th>...</th>\n",
              "      <td>...</td>\n",
              "      <td>...</td>\n",
              "    </tr>\n",
              "    <tr>\n",
              "      <th>21520</th>\n",
              "      <td>civil partnership</td>\n",
              "      <td>1</td>\n",
              "    </tr>\n",
              "    <tr>\n",
              "      <th>21521</th>\n",
              "      <td>married</td>\n",
              "      <td>0</td>\n",
              "    </tr>\n",
              "    <tr>\n",
              "      <th>21522</th>\n",
              "      <td>civil partnership</td>\n",
              "      <td>1</td>\n",
              "    </tr>\n",
              "    <tr>\n",
              "      <th>21523</th>\n",
              "      <td>married</td>\n",
              "      <td>0</td>\n",
              "    </tr>\n",
              "    <tr>\n",
              "      <th>21524</th>\n",
              "      <td>married</td>\n",
              "      <td>0</td>\n",
              "    </tr>\n",
              "  </tbody>\n",
              "</table>\n",
              "<p>21471 rows × 2 columns</p>\n",
              "</div>"
            ],
            "text/plain": [
              "           family_status  family_status_id\n",
              "0                married                 0\n",
              "1                married                 0\n",
              "2                married                 0\n",
              "3                married                 0\n",
              "4      civil partnership                 1\n",
              "...                  ...               ...\n",
              "21520  civil partnership                 1\n",
              "21521            married                 0\n",
              "21522  civil partnership                 1\n",
              "21523            married                 0\n",
              "21524            married                 0\n",
              "\n",
              "[21471 rows x 2 columns]"
            ]
          },
          "execution_count": 12,
          "metadata": {},
          "output_type": "execute_result"
        }
      ],
      "execution_count": 12
    },
    {
      "cell_type": "markdown",
      "source": "Tidak ada masalah pada kolom `family_status` dan `family_status_id`",
      "metadata": {}
    },
    {
      "cell_type": "markdown",
      "source": "#### Transformasi Data pada Kolom  `education` dan `education_id`",
      "metadata": {}
    },
    {
      "cell_type": "code",
      "source": "# menampilkan list unik pada kolom 'education'\n\ncustomers['education'].unique().tolist()",
      "metadata": {},
      "outputs": [
        {
          "data": {
            "text/plain": [
              "[\"bachelor's degree\",\n",
              " 'secondary education',\n",
              " 'Secondary Education',\n",
              " 'SECONDARY EDUCATION',\n",
              " \"BACHELOR'S DEGREE\",\n",
              " 'some college',\n",
              " 'primary education',\n",
              " \"Bachelor's Degree\",\n",
              " 'SOME COLLEGE',\n",
              " 'Some College',\n",
              " 'PRIMARY EDUCATION',\n",
              " 'Primary Education',\n",
              " 'Graduate Degree',\n",
              " 'GRADUATE DEGREE',\n",
              " 'graduate degree']"
            ]
          },
          "execution_count": 13,
          "metadata": {},
          "output_type": "execute_result"
        }
      ],
      "execution_count": 13
    },
    {
      "cell_type": "markdown",
      "source": "Identifikasi masalah pada kolom ‘education’:\n- Penggunaan huruf besar/kecil yang tidak konsisten\n- Ejaan yang tidak konsisten",
      "metadata": {}
    },
    {
      "cell_type": "code",
      "source": "# Mengubah penulisan menjadi huruf kecil\ncustomers['education'] = customers['education'].str.lower()",
      "metadata": {},
      "outputs": [],
      "execution_count": 14
    },
    {
      "cell_type": "code",
      "source": "# cek hasil\n\ncustomers['education'].unique().tolist()",
      "metadata": {},
      "outputs": [
        {
          "data": {
            "text/plain": [
              "[\"bachelor's degree\",\n",
              " 'secondary education',\n",
              " 'some college',\n",
              " 'primary education',\n",
              " 'graduate degree']"
            ]
          },
          "execution_count": 15,
          "metadata": {},
          "output_type": "execute_result"
        }
      ],
      "execution_count": 15
    },
    {
      "cell_type": "markdown",
      "source": "Masalah pada kolom `education` telah teratasi.",
      "metadata": {}
    },
    {
      "cell_type": "markdown",
      "source": "#### Transformasi Data pada Kolom  `gender`",
      "metadata": {}
    },
    {
      "cell_type": "code",
      "source": "# menampilkan list unik pada kolom ‘gender’\n\ncustomers['gender'].unique()",
      "metadata": {},
      "outputs": [
        {
          "data": {
            "text/plain": [
              "array(['F', 'M', 'XNA'], dtype=object)"
            ]
          },
          "execution_count": 16,
          "metadata": {},
          "output_type": "execute_result"
        }
      ],
      "execution_count": 16
    },
    {
      "cell_type": "markdown",
      "source": "Identifikasi masalah pada kolom ‘gender:\n- gender dengan nilai \"XNA\" --> akan dihapus",
      "metadata": {}
    },
    {
      "cell_type": "code",
      "source": "# Menghapus baris di mana kolom 'gender' bernilai 'XNA'\ncustomers = customers.drop(customers[customers['gender'] == 'XNA'].index)\n\ncustomers['gender'].unique()",
      "metadata": {},
      "outputs": [
        {
          "data": {
            "text/plain": [
              "array(['F', 'M'], dtype=object)"
            ]
          },
          "execution_count": 17,
          "metadata": {},
          "output_type": "execute_result"
        }
      ],
      "execution_count": 17
    },
    {
      "cell_type": "markdown",
      "source": "Masalah pada kolom `gender` telah teratasi.",
      "metadata": {}
    },
    {
      "cell_type": "markdown",
      "source": "#### Transformasi Data pada Kolom  `children`",
      "metadata": {}
    },
    {
      "cell_type": "code",
      "source": "# menampilkan statistik deskriptif pada kolom `children`\n\ncustomers['children'].describe()",
      "metadata": {},
      "outputs": [
        {
          "data": {
            "text/plain": [
              "count    21470.000000\n",
              "mean         0.539590\n",
              "std          1.383006\n",
              "min         -1.000000\n",
              "25%          0.000000\n",
              "50%          0.000000\n",
              "75%          1.000000\n",
              "max         20.000000\n",
              "Name: children, dtype: float64"
            ]
          },
          "execution_count": 18,
          "metadata": {},
          "output_type": "execute_result"
        }
      ],
      "execution_count": 18
    },
    {
      "cell_type": "markdown",
      "source": "Identifikasi masalah pada kolom ‘children’:\n- adanya nilai negatif pada jumlah anak.\n- jumlah anak tidak masuk akal: 20",
      "metadata": {}
    },
    {
      "cell_type": "code",
      "source": "# mengubah nilai negatif tersebut menjadi nilai absolut\n\ncustomers['children'] = customers['children'].abs()\ncustomers['children'].describe()",
      "metadata": {},
      "outputs": [
        {
          "data": {
            "text/plain": [
              "count    21470.000000\n",
              "mean         0.543968\n",
              "std          1.381289\n",
              "min          0.000000\n",
              "25%          0.000000\n",
              "50%          0.000000\n",
              "75%          1.000000\n",
              "max         20.000000\n",
              "Name: children, dtype: float64"
            ]
          },
          "execution_count": 19,
          "metadata": {},
          "output_type": "execute_result"
        }
      ],
      "execution_count": 19
    },
    {
      "cell_type": "markdown",
      "source": "Masalah berikutnya adalah adanya nasabah yang memiliki anak 20, ini merupakan outlier, yang saya asumsikan sebagai kesahalan menginput data, saya akan menggantinya dengan nilai '2'.",
      "metadata": {}
    },
    {
      "cell_type": "code",
      "source": "# mengganti nilai 20 menjadi 2\n\ncustomers.loc[customers['children'] == 20, 'children'] = 2",
      "metadata": {},
      "outputs": [],
      "execution_count": 20
    },
    {
      "cell_type": "code",
      "source": "# mengecek kembali\n\ncustomers['children'].value_counts()",
      "metadata": {},
      "outputs": [
        {
          "data": {
            "text/plain": [
              "0    14106\n",
              "1     4856\n",
              "2     2128\n",
              "3      330\n",
              "4       41\n",
              "5        9\n",
              "Name: children, dtype: int64"
            ]
          },
          "execution_count": 21,
          "metadata": {},
          "output_type": "execute_result"
        }
      ],
      "execution_count": 21
    },
    {
      "cell_type": "markdown",
      "source": "Masalah pada kolom `children` sudah diatasi.",
      "metadata": {}
    },
    {
      "cell_type": "markdown",
      "source": "#### Transformasi Data pada Kolom  `dob_years`",
      "metadata": {}
    },
    {
      "cell_type": "code",
      "source": "# menampilkan statistik deskriptif pada kolom `dob_years`\n\ncustomers['dob_years'].describe()",
      "metadata": {},
      "outputs": [
        {
          "data": {
            "text/plain": [
              "count    21470.000000\n",
              "mean        43.279972\n",
              "std         12.573896\n",
              "min          0.000000\n",
              "25%         33.000000\n",
              "50%         42.000000\n",
              "75%         53.000000\n",
              "max         75.000000\n",
              "Name: dob_years, dtype: float64"
            ]
          },
          "execution_count": 22,
          "metadata": {},
          "output_type": "execute_result"
        }
      ],
      "execution_count": 22
    },
    {
      "cell_type": "markdown",
      "source": "Identifikasi masalah pada kolom ‘dob_years:\n- Ada data nasabah berusia 0",
      "metadata": {}
    },
    {
      "cell_type": "code",
      "source": "# Mengganti nilai 0 pada usia nasabah menjadi nilai median\n\n# Hitung median dari kolom 'dob_years' tanpa memperhitungkan nilai 0\nmedian_dob_years = customers[customers['dob_years'] != 0]['dob_years'].median()",
      "metadata": {},
      "outputs": [],
      "execution_count": 23
    },
    {
      "cell_type": "code",
      "source": "# Ganti nilai 0 dengan median\ncustomers['dob_years'].replace(0, median_dob_years, inplace=True)",
      "metadata": {},
      "outputs": [],
      "execution_count": 24
    },
    {
      "cell_type": "code",
      "source": "# menampilkan hasil\ncustomers['dob_years'].describe()",
      "metadata": {},
      "outputs": [
        {
          "data": {
            "text/plain": [
              "count    21470.000000\n",
              "mean        43.482254\n",
              "std         12.216796\n",
              "min         19.000000\n",
              "25%         34.000000\n",
              "50%         43.000000\n",
              "75%         53.000000\n",
              "max         75.000000\n",
              "Name: dob_years, dtype: float64"
            ]
          },
          "execution_count": 25,
          "metadata": {},
          "output_type": "execute_result"
        }
      ],
      "execution_count": 25
    },
    {
      "cell_type": "markdown",
      "source": "Masalah pada kolom `dob_years` telah teratasi.",
      "metadata": {}
    },
    {
      "cell_type": "markdown",
      "source": "#### Transformasi Data pada Kolom  `days_employed`",
      "metadata": {}
    },
    {
      "cell_type": "code",
      "source": "# menampilkan statistik deskriptif pada kolom `days_employed`\n\ncustomers['days_employed'].describe()",
      "metadata": {},
      "outputs": [
        {
          "data": {
            "text/plain": [
              "count     19350.000000\n",
              "mean      63049.877770\n",
              "std      140830.166081\n",
              "min      -18388.949901\n",
              "25%       -2747.486276\n",
              "50%       -1203.307346\n",
              "75%        -291.077541\n",
              "max      401755.400475\n",
              "Name: days_employed, dtype: float64"
            ]
          },
          "execution_count": 26,
          "metadata": {},
          "output_type": "execute_result"
        }
      ],
      "execution_count": 26
    },
    {
      "cell_type": "markdown",
      "source": "Identifikasi masalah pada kolom ‘days_employed:\n- nilai negatif pada pengalaman hari bekerja\n- days_employed selama 401755.400475 tidak masuk akal",
      "metadata": {}
    },
    {
      "cell_type": "code",
      "source": "# mengubah nilai negatif kolom `days_employed` menjadi positif\n\ncustomers['days_employed'] = customers['days_employed'].abs()\ncustomers['days_employed'].describe()",
      "metadata": {},
      "outputs": [
        {
          "data": {
            "text/plain": [
              "count     19350.000000\n",
              "mean      66918.065141\n",
              "std      139033.698578\n",
              "min          24.141633\n",
              "25%         926.990457\n",
              "50%        2194.218768\n",
              "75%        5538.423086\n",
              "max      401755.400475\n",
              "Name: days_employed, dtype: float64"
            ]
          },
          "execution_count": 27,
          "metadata": {},
          "output_type": "execute_result"
        }
      ],
      "execution_count": 27
    },
    {
      "cell_type": "code",
      "source": "# memperbaiki pengalaman kerja yang tidak masuk akal\n\n# usia nasabah tertua adalah 75 tahun atau setara dengan kurang lebih 27.000 hari,\n# berdasarkan hal tersebut saya akan menetapkan nilai maksimal untuk pengalaman kerja adalah selama 27.000 hari\n# maka, data days_employed di atas 27.000 hari akan diubah menjadi nilai hilang terlebih dahulu\n# Kemudian pada langkah selanjutnya akan diisi dengan nilai rata-rata pada masing-masing kategori umur. \n\ncustomers.loc[customers['days_employed'] > 27000, 'days_employed'] = None\n\ncustomers['days_employed'].describe()",
      "metadata": {},
      "outputs": [
        {
          "data": {
            "text/plain": [
              "count    15905.000000\n",
              "mean      2353.015581\n",
              "std       2304.316291\n",
              "min         24.141633\n",
              "25%        756.281915\n",
              "50%       1629.997862\n",
              "75%       3157.654315\n",
              "max      18388.949901\n",
              "Name: days_employed, dtype: float64"
            ]
          },
          "execution_count": 28,
          "metadata": {},
          "output_type": "execute_result"
        }
      ],
      "execution_count": 28
    },
    {
      "cell_type": "markdown",
      "source": "Masalah pada kolom `days_employed` telah teratasi.",
      "metadata": {}
    },
    {
      "cell_type": "markdown",
      "source": "#### Transformasi Data pada Kolom  `purpose`",
      "metadata": {}
    },
    {
      "cell_type": "code",
      "source": "# menampilkan list unik pada kolom ‘purpose’\n\ncustomers['purpose'].unique().tolist()",
      "metadata": {},
      "outputs": [
        {
          "data": {
            "text/plain": [
              "['purchase of the house',\n",
              " 'car purchase',\n",
              " 'supplementary education',\n",
              " 'to have a wedding',\n",
              " 'housing transactions',\n",
              " 'education',\n",
              " 'having a wedding',\n",
              " 'purchase of the house for my family',\n",
              " 'buy real estate',\n",
              " 'buy commercial real estate',\n",
              " 'buy residential real estate',\n",
              " 'construction of own property',\n",
              " 'property',\n",
              " 'building a property',\n",
              " 'buying a second-hand car',\n",
              " 'buying my own car',\n",
              " 'transactions with commercial real estate',\n",
              " 'building a real estate',\n",
              " 'housing',\n",
              " 'transactions with my real estate',\n",
              " 'cars',\n",
              " 'to become educated',\n",
              " 'second-hand car purchase',\n",
              " 'getting an education',\n",
              " 'car',\n",
              " 'wedding ceremony',\n",
              " 'to get a supplementary education',\n",
              " 'purchase of my own house',\n",
              " 'real estate transactions',\n",
              " 'getting higher education',\n",
              " 'to own a car',\n",
              " 'purchase of a car',\n",
              " 'profile education',\n",
              " 'university education',\n",
              " 'buying property for renting out',\n",
              " 'to buy a car',\n",
              " 'housing renovation',\n",
              " 'going to university']"
            ]
          },
          "execution_count": 29,
          "metadata": {},
          "output_type": "execute_result"
        }
      ],
      "execution_count": 29
    },
    {
      "cell_type": "markdown",
      "source": "Identifikasi masalah pada kolom ‘gender:\n    - nilai yang tidak konsisten dengan maksud sama.\n\nSaya akan merename daftar tersebut:",
      "metadata": {}
    },
    {
      "cell_type": "code",
      "source": "# Mengganti nilai-nilai tertentu dalam kolom 'purpose' dengan nilai 'car'\n\nreplacement_values_car = {'buying a second-hand car': 'car', 'cars': 'car', 'second-hand car purchase': 'car',\n                      'to own a car': 'car', 'to buy a car': 'car', 'purchase of a car': 'car', 'car': 'car',\n                      'buying my own car': 'car', 'car purchase': 'car'}\n\ncustomers['purpose'] = customers['purpose'].replace(replacement_values_car)",
      "metadata": {},
      "outputs": [],
      "execution_count": 30
    },
    {
      "cell_type": "code",
      "source": "# Mengganti nilai-nilai tertentu dalam kolom 'purpose' dengan nilai 'education'\n\nreplacement_values_education = {\n    'to become educated': 'education',\n    'getting an education': 'education',\n    'getting higher education': 'education',\n    'university education': 'education',\n    'going to university': 'education',\n    'profile education': 'education',\n    'to get a supplementary education': 'education',\n    'education': 'education',\n    'supplementary education': 'education'\n}\n\ncustomers['purpose'] = customers['purpose'].replace(replacement_values_education)",
      "metadata": {},
      "outputs": [],
      "execution_count": 31
    },
    {
      "cell_type": "code",
      "source": "# Mengganti nilai-nilai tertentu dalam kolom 'purpose' dengan nilai 'wedding'\nreplacement_values_wedding = {\n    'having a wedding': 'wedding',\n    'wedding ceremony': 'wedding',\n    'to have a wedding': 'wedding'\n}\n\ncustomers['purpose'] = customers['purpose'].replace(replacement_values_wedding)",
      "metadata": {},
      "outputs": [],
      "execution_count": 32
    },
    {
      "cell_type": "code",
      "source": "# Daftar nilai yang akan diganti\nvalues_to_replace = ['purchase of the house', 'buy real estate', 'buy commercial real estate', 'property',\n                     'building a property', 'building a real estate', 'housing', 'purchase of my own house',\n                     'buying property for renting out', 'housing renovation', 'real estate transactions',\n                     'transactions with my real estate', 'transactions with commercial real estate',\n                     'construction of own property', 'buy residential real estate', 'purchase of the house for my family',\n                     'housing transactions']\n\n# Mengganti nilai-nilai tertentu dalam kolom 'purpose' dengan nilai 'property'\ncustomers['purpose'] = customers['purpose'].replace(values_to_replace, 'property')\n\n\n# Cek hasil\ncustomers['purpose'].unique().tolist()",
      "metadata": {},
      "outputs": [
        {
          "data": {
            "text/plain": [
              "['property', 'car', 'education', 'wedding']"
            ]
          },
          "execution_count": 33,
          "metadata": {},
          "output_type": "execute_result"
        }
      ],
      "execution_count": 33
    },
    {
      "cell_type": "markdown",
      "source": "#### Mengisi Nilai yang Hilang pada Kolom `days employed`",
      "metadata": {}
    },
    {
      "cell_type": "markdown",
      "source": "Untuk mengisi data yang hilang pada kolom `days_employed` saya akan membuat kolom baru dulu dengan mengkategorikan nasabah berdasarkan usianya. \n\nKemudian, data-data yang hilang akan diinput dari rata-rata nilai pada nasabah sesuai kategori usianya. ",
      "metadata": {}
    },
    {
      "cell_type": "markdown",
      "source": "##### Pembuatan Kolom Baru `dob_category` dan `dob_category_id`",
      "metadata": {}
    },
    {
      "cell_type": "code",
      "source": "# cek isi dob_years\n\ncustomers['dob_years'].describe()",
      "metadata": {},
      "outputs": [
        {
          "data": {
            "text/plain": [
              "count    21470.000000\n",
              "mean        43.482254\n",
              "std         12.216796\n",
              "min         19.000000\n",
              "25%         34.000000\n",
              "50%         43.000000\n",
              "75%         53.000000\n",
              "max         75.000000\n",
              "Name: dob_years, dtype: float64"
            ]
          },
          "execution_count": 34,
          "metadata": {},
          "output_type": "execute_result"
        }
      ],
      "execution_count": 34
    },
    {
      "cell_type": "code",
      "source": "# saya akan membuat kategori umur di mana: \n# 19 - 35 = young\n# 35 - 60 = adult\n# 60 - 75 = senior\n\n# Membuat kolom baru 'dob_category' dengan mengkategorikan umur\n\ncustomers['dob_category'] = pd.cut(customers['dob_years'],\n                                  bins=[18, 35, 60, 75],\n                                  labels=['young', 'adult', 'senior'],\n                                  include_lowest=True)\n\n# Mengubah tipe data kolom 'dob_category' menjadi objek\ncustomers['dob_category'] = customers['dob_category'].astype('object')\n\n",
      "metadata": {},
      "outputs": [],
      "execution_count": 35
    },
    {
      "cell_type": "code",
      "source": "# Membuat kolom baru 'dob_category_id' berdasarkan 'dob_category'\n\ncustomers['dob_category_id'] = customers['dob_category'].map({'young': 1, 'adult': 2, 'senior': 3})\n\n\n# Mengubah tipe data kolom 'dob_category_id' menjadi integer\ncustomers['dob_category_id'] = customers['dob_category_id'].astype(int)\n",
      "metadata": {},
      "outputs": [],
      "execution_count": 36
    },
    {
      "cell_type": "code",
      "source": "# Cek hasil\ncustomers[['dob_years','dob_category','dob_category_id']].info()",
      "metadata": {},
      "outputs": [
        {
          "name": "stdout",
          "output_type": "stream",
          "text": [
            "<class 'pandas.core.frame.DataFrame'>\n",
            "Int64Index: 21470 entries, 0 to 21524\n",
            "Data columns (total 3 columns):\n",
            " #   Column           Non-Null Count  Dtype  \n",
            "---  ------           --------------  -----  \n",
            " 0   dob_years        21470 non-null  float64\n",
            " 1   dob_category     21470 non-null  object \n",
            " 2   dob_category_id  21470 non-null  int64  \n",
            "dtypes: float64(1), int64(1), object(1)\n",
            "memory usage: 670.9+ KB\n"
          ]
        }
      ],
      "execution_count": 37
    },
    {
      "cell_type": "markdown",
      "source": "##### Mengisi Nilai yang Hilang pada Kolom `days_employed` pada Nasabah dengan Kategori Umur `young`",
      "metadata": {}
    },
    {
      "cell_type": "code",
      "source": "# membuat df baru, young_customers\n\nyoung_customers = customers[customers['dob_category'] == 'young']\nyoung_customers.info()\n# ----------",
      "metadata": {},
      "outputs": [
        {
          "name": "stdout",
          "output_type": "stream",
          "text": [
            "<class 'pandas.core.frame.DataFrame'>\n",
            "Int64Index: 6584 entries, 2 to 21515\n",
            "Data columns (total 14 columns):\n",
            " #   Column            Non-Null Count  Dtype  \n",
            "---  ------            --------------  -----  \n",
            " 0   children          6584 non-null   int64  \n",
            " 1   days_employed     5933 non-null   float64\n",
            " 2   dob_years         6584 non-null   float64\n",
            " 3   education         6584 non-null   object \n",
            " 4   education_id      6584 non-null   int64  \n",
            " 5   family_status     6584 non-null   object \n",
            " 6   family_status_id  6584 non-null   int64  \n",
            " 7   gender            6584 non-null   object \n",
            " 8   income_type       6584 non-null   object \n",
            " 9   debt              6584 non-null   int64  \n",
            " 10  total_income      5950 non-null   float64\n",
            " 11  purpose           6584 non-null   object \n",
            " 12  dob_category      6584 non-null   object \n",
            " 13  dob_category_id   6584 non-null   int64  \n",
            "dtypes: float64(3), int64(5), object(6)\n",
            "memory usage: 771.6+ KB\n"
          ]
        }
      ],
      "execution_count": 38
    },
    {
      "cell_type": "code",
      "source": "# hitung 'days_employed' yang hilang pada nasabah dengan kategori 'young'\nmissing_young_days_employed = young_customers['days_employed'].isna().sum()\n\nprint(\"Ada\", missing_young_days_employed, \"nilai yang hilang pada nasabah dengan kategori 'young'.\")\n# ----------",
      "metadata": {},
      "outputs": [
        {
          "name": "stdout",
          "output_type": "stream",
          "text": [
            "Ada 651 nilai yang hilang pada nasabah dengan kategori 'young'.\n"
          ]
        }
      ],
      "execution_count": 39
    },
    {
      "cell_type": "code",
      "source": "# menghitung days_employed rata-rata di mana kolom dob_category bernilai \"young\"\navg_days_employed_young = young_customers['days_employed'].mean()\navg_days_employed_young\nprint(\"Rata-rata pengalaman kerja pada nasabah dengan kategori 'young' adalah selama\", round(avg_days_employed_young), \"hari.\")\n",
      "metadata": {},
      "outputs": [
        {
          "name": "stdout",
          "output_type": "stream",
          "text": [
            "Rata-rata pengalaman kerja pada nasabah dengan kategori 'young' adalah selama 1539 hari.\n"
          ]
        }
      ],
      "execution_count": 40
    },
    {
      "cell_type": "code",
      "source": "# mengisi days_employed yang memiliki nilai yang hilang pada nasabah kategori \"young\" dengan rata-ratanya\n\ncustomers.loc[(customers['dob_category'] == 'young') & (customers['days_employed'].isna()), 'days_employed'] = avg_days_employed_young\n",
      "metadata": {},
      "outputs": [],
      "execution_count": 41
    },
    {
      "cell_type": "code",
      "source": "# cek apakah masih ada nilai hilang pada days_employed di mana dob_category bernilai ‘young\n\ncustomers[customers['dob_category'] == 'young']['dob_category'].isnull().sum()\n",
      "metadata": {},
      "outputs": [
        {
          "data": {
            "text/plain": [
              "0"
            ]
          },
          "execution_count": 43,
          "metadata": {},
          "output_type": "execute_result"
        }
      ],
      "execution_count": 43
    },
    {
      "cell_type": "code",
      "source": "customers.info()",
      "metadata": {},
      "outputs": [
        {
          "name": "stdout",
          "output_type": "stream",
          "text": [
            "<class 'pandas.core.frame.DataFrame'>\n",
            "Int64Index: 21470 entries, 0 to 21524\n",
            "Data columns (total 14 columns):\n",
            " #   Column            Non-Null Count  Dtype  \n",
            "---  ------            --------------  -----  \n",
            " 0   children          21470 non-null  int64  \n",
            " 1   days_employed     16556 non-null  float64\n",
            " 2   dob_years         21470 non-null  float64\n",
            " 3   education         21470 non-null  object \n",
            " 4   education_id      21470 non-null  int64  \n",
            " 5   family_status     21470 non-null  object \n",
            " 6   family_status_id  21470 non-null  int64  \n",
            " 7   gender            21470 non-null  object \n",
            " 8   income_type       21470 non-null  object \n",
            " 9   debt              21470 non-null  int64  \n",
            " 10  total_income      19350 non-null  float64\n",
            " 11  purpose           21470 non-null  object \n",
            " 12  dob_category      21470 non-null  object \n",
            " 13  dob_category_id   21470 non-null  int64  \n",
            "dtypes: float64(3), int64(5), object(6)\n",
            "memory usage: 2.5+ MB\n"
          ]
        }
      ],
      "execution_count": 45
    },
    {
      "cell_type": "markdown",
      "source": "Nilai hilang pada kolom `days_employed` untuk kategori `young` telah diisi.\n",
      "metadata": {}
    },
    {
      "cell_type": "markdown",
      "source": "##### Mengisi Nilai yang Hilang pada Kolom `days_employed` pada Nasabah dengan Kategori Umur `adult`",
      "metadata": {}
    },
    {
      "cell_type": "code",
      "source": "# membuat df baru, adult_customers\n\nadult_customers = customers[customers['dob_category'] == 'adult']\nadult_customers.info()\n# ----------\n",
      "metadata": {},
      "outputs": [
        {
          "name": "stdout",
          "output_type": "stream",
          "text": [
            "<class 'pandas.core.frame.DataFrame'>\n",
            "Int64Index: 12754 entries, 0 to 21524\n",
            "Data columns (total 14 columns):\n",
            " #   Column            Non-Null Count  Dtype  \n",
            "---  ------            --------------  -----  \n",
            " 0   children          12754 non-null  int64  \n",
            " 1   days_employed     9576 non-null   float64\n",
            " 2   dob_years         12754 non-null  float64\n",
            " 3   education         12754 non-null  object \n",
            " 4   education_id      12754 non-null  int64  \n",
            " 5   family_status     12754 non-null  object \n",
            " 6   family_status_id  12754 non-null  int64  \n",
            " 7   gender            12754 non-null  object \n",
            " 8   income_type       12754 non-null  object \n",
            " 9   debt              12754 non-null  int64  \n",
            " 10  total_income      11483 non-null  float64\n",
            " 11  purpose           12754 non-null  object \n",
            " 12  dob_category      12754 non-null  object \n",
            " 13  dob_category_id   12754 non-null  int64  \n",
            "dtypes: float64(3), int64(5), object(6)\n",
            "memory usage: 1.5+ MB\n"
          ]
        }
      ],
      "execution_count": 46
    },
    {
      "cell_type": "code",
      "source": "\n# hitung 'days_employed' yang hilang pada nasabah dengan kategori 'adult'\nmissing_adult_days_employed = adult_customers['days_employed'].isna().sum()\n\nprint(\"Ada\", missing_adult_days_employed, \"nilai yang hilang pada nasabah dengan kategori 'adult'.\")\n# ----------\n",
      "metadata": {},
      "outputs": [
        {
          "name": "stdout",
          "output_type": "stream",
          "text": [
            "Ada 3178 nilai yang hilang pada nasabah dengan kategori 'adult'.\n"
          ]
        }
      ],
      "execution_count": 47
    },
    {
      "cell_type": "code",
      "source": "# menghitung days_employed rata-rata di mana kolom dob_category bernilai \"adult\"\navg_days_employed_adult = adult_customers['days_employed'].mean()\navg_days_employed_adult\nprint(\"Rata-rata pengalaman kerja pada nasabah dengan kategori 'adult' adalah selama\", round(avg_days_employed_adult), \"hari.\")\n",
      "metadata": {},
      "outputs": [
        {
          "name": "stdout",
          "output_type": "stream",
          "text": [
            "Rata-rata pengalaman kerja pada nasabah dengan kategori 'adult' adalah selama 2794 hari.\n"
          ]
        }
      ],
      "execution_count": 48
    },
    {
      "cell_type": "code",
      "source": "# mengisi days_employed yang memiliki nilai yang hilang pada nasabah kategori \"adult\" dengan rata-ratanya\n\ncustomers.loc[(customers['dob_category'] == 'adult') & (customers['days_employed'].isna()), 'days_employed'] = avg_days_employed_adult\n",
      "metadata": {},
      "outputs": [],
      "execution_count": 49
    },
    {
      "cell_type": "code",
      "source": "# cek apakah masih ada nilai hilang pada days_employed di mana dob_category bernilai ‘adult\n\ncustomers[customers['dob_category'] == 'adult']['dob_category'].isnull().sum()\n",
      "metadata": {},
      "outputs": [
        {
          "data": {
            "text/plain": [
              "0"
            ]
          },
          "execution_count": 50,
          "metadata": {},
          "output_type": "execute_result"
        }
      ],
      "execution_count": 50
    },
    {
      "cell_type": "code",
      "source": "customers.info()\n",
      "metadata": {},
      "outputs": [
        {
          "name": "stdout",
          "output_type": "stream",
          "text": [
            "<class 'pandas.core.frame.DataFrame'>\n",
            "Int64Index: 21470 entries, 0 to 21524\n",
            "Data columns (total 14 columns):\n",
            " #   Column            Non-Null Count  Dtype  \n",
            "---  ------            --------------  -----  \n",
            " 0   children          21470 non-null  int64  \n",
            " 1   days_employed     19734 non-null  float64\n",
            " 2   dob_years         21470 non-null  float64\n",
            " 3   education         21470 non-null  object \n",
            " 4   education_id      21470 non-null  int64  \n",
            " 5   family_status     21470 non-null  object \n",
            " 6   family_status_id  21470 non-null  int64  \n",
            " 7   gender            21470 non-null  object \n",
            " 8   income_type       21470 non-null  object \n",
            " 9   debt              21470 non-null  int64  \n",
            " 10  total_income      19350 non-null  float64\n",
            " 11  purpose           21470 non-null  object \n",
            " 12  dob_category      21470 non-null  object \n",
            " 13  dob_category_id   21470 non-null  int64  \n",
            "dtypes: float64(3), int64(5), object(6)\n",
            "memory usage: 2.5+ MB\n"
          ]
        }
      ],
      "execution_count": 51
    },
    {
      "cell_type": "markdown",
      "source": "Nilai hilang pada kolom `days_employed` untuk kategori `adult` telah diisi.",
      "metadata": {}
    },
    {
      "cell_type": "markdown",
      "source": "##### Mengisi Nilai yang Hilang pada Kolom `days_employed` pada Nasabah dengan Kategori Umur `senior`",
      "metadata": {}
    },
    {
      "cell_type": "code",
      "source": "# membuat df baru, senior_customers\n\nsenior_customers = customers[customers['dob_category'] == 'senior']\nsenior_customers.info()\n# ----------\n",
      "metadata": {},
      "outputs": [
        {
          "name": "stdout",
          "output_type": "stream",
          "text": [
            "<class 'pandas.core.frame.DataFrame'>\n",
            "Int64Index: 2132 entries, 12 to 21521\n",
            "Data columns (total 14 columns):\n",
            " #   Column            Non-Null Count  Dtype  \n",
            "---  ------            --------------  -----  \n",
            " 0   children          2132 non-null   int64  \n",
            " 1   days_employed     396 non-null    float64\n",
            " 2   dob_years         2132 non-null   float64\n",
            " 3   education         2132 non-null   object \n",
            " 4   education_id      2132 non-null   int64  \n",
            " 5   family_status     2132 non-null   object \n",
            " 6   family_status_id  2132 non-null   int64  \n",
            " 7   gender            2132 non-null   object \n",
            " 8   income_type       2132 non-null   object \n",
            " 9   debt              2132 non-null   int64  \n",
            " 10  total_income      1917 non-null   float64\n",
            " 11  purpose           2132 non-null   object \n",
            " 12  dob_category      2132 non-null   object \n",
            " 13  dob_category_id   2132 non-null   int64  \n",
            "dtypes: float64(3), int64(5), object(6)\n",
            "memory usage: 249.8+ KB\n"
          ]
        }
      ],
      "execution_count": 52
    },
    {
      "cell_type": "code",
      "source": "# hitung 'days_employed' yang hilang pada nasabah dengan kategori 'senior'\nmissing_senior_days_employed = senior_customers['days_employed'].isna().sum()\n\nprint(\"Ada\", missing_senior_days_employed, \"nilai yang hilang pada nasabah dengan kategori 'senior'.\")\n# ----------\n",
      "metadata": {},
      "outputs": [
        {
          "name": "stdout",
          "output_type": "stream",
          "text": [
            "Ada 1736 nilai yang hilang pada nasabah dengan kategori 'senior'.\n"
          ]
        }
      ],
      "execution_count": 53
    },
    {
      "cell_type": "code",
      "source": "# menghitung days_employed rata-rata di mana kolom dob_category bernilai \"senior\"\navg_days_employed_senior = senior_customers['days_employed'].mean()\navg_days_employed_senior\nprint(\"Rata-rata pengalaman kerja pada nasabah dengan kategori 'senior' adalah selama\", round(avg_days_employed_senior), \"hari.\")\n",
      "metadata": {},
      "outputs": [
        {
          "name": "stdout",
          "output_type": "stream",
          "text": [
            "Rata-rata pengalaman kerja pada nasabah dengan kategori 'senior' adalah selama 3871 hari.\n"
          ]
        }
      ],
      "execution_count": 54
    },
    {
      "cell_type": "code",
      "source": "# mengisi days_employed yang memiliki nilai yang hilang pada nasabah kategori \"senior\" dengan rata-ratanya\n\ncustomers.loc[(customers['dob_category'] == 'senior') & (customers['days_employed'].isna()), 'days_employed'] = avg_days_employed_senior\n",
      "metadata": {},
      "outputs": [],
      "execution_count": 55
    },
    {
      "cell_type": "code",
      "source": "# cek apakah masih ada nilai hilang pada days_employed di mana dob_category bernilai ‘senior’\n\ncustomers[customers['dob_category'] == 'senior']['dob_category'].isnull().sum()\n",
      "metadata": {},
      "outputs": [
        {
          "data": {
            "text/plain": [
              "0"
            ]
          },
          "execution_count": 56,
          "metadata": {},
          "output_type": "execute_result"
        }
      ],
      "execution_count": 56
    },
    {
      "cell_type": "code",
      "source": "customers.info()\n",
      "metadata": {},
      "outputs": [
        {
          "name": "stdout",
          "output_type": "stream",
          "text": [
            "<class 'pandas.core.frame.DataFrame'>\n",
            "Int64Index: 21470 entries, 0 to 21524\n",
            "Data columns (total 14 columns):\n",
            " #   Column            Non-Null Count  Dtype  \n",
            "---  ------            --------------  -----  \n",
            " 0   children          21470 non-null  int64  \n",
            " 1   days_employed     21470 non-null  float64\n",
            " 2   dob_years         21470 non-null  float64\n",
            " 3   education         21470 non-null  object \n",
            " 4   education_id      21470 non-null  int64  \n",
            " 5   family_status     21470 non-null  object \n",
            " 6   family_status_id  21470 non-null  int64  \n",
            " 7   gender            21470 non-null  object \n",
            " 8   income_type       21470 non-null  object \n",
            " 9   debt              21470 non-null  int64  \n",
            " 10  total_income      19350 non-null  float64\n",
            " 11  purpose           21470 non-null  object \n",
            " 12  dob_category      21470 non-null  object \n",
            " 13  dob_category_id   21470 non-null  int64  \n",
            "dtypes: float64(3), int64(5), object(6)\n",
            "memory usage: 2.5+ MB\n"
          ]
        }
      ],
      "execution_count": 57
    },
    {
      "cell_type": "markdown",
      "source": "Nilai hilang pada kolom `days_employed` untuk kategori `senior` telah diisi.",
      "metadata": {}
    },
    {
      "cell_type": "markdown",
      "source": "#### Mengisi Nilai yang Hilang pada Kolom `total_income`",
      "metadata": {}
    },
    {
      "cell_type": "markdown",
      "source": "Pada langkah sebelumnya, kita telah membuat df baru bernama `young_customers`, `adult_customers`, dan `senior_customers`. Jadi pada tahap ini kita tidak membuat df baru lagi pada masing-masing langkah yang akan dilakukan. ",
      "metadata": {}
    },
    {
      "cell_type": "markdown",
      "source": "##### Mengisi Nilai yang Hilang pada Kolom `total_income` pada Nasabah dengan Kategori Umur `young`",
      "metadata": {}
    },
    {
      "cell_type": "code",
      "source": "# hitung 'total_income' yang hilang pada nasabah dengan kategori 'young'\nmissing_young_total_income = young_customers['total_income'].isna().sum()\n\nprint(\"Ada\", missing_young_total_income, \"nilai yang hilang pada nasabah dengan kategori 'young'.\")\n# ----------",
      "metadata": {},
      "outputs": [
        {
          "name": "stdout",
          "output_type": "stream",
          "text": [
            "Ada 634 nilai yang hilang pada nasabah dengan kategori 'young'.\n"
          ]
        }
      ],
      "execution_count": 58
    },
    {
      "cell_type": "code",
      "source": "# total_income rata-rata di mana kolom total_income bernilai \"young\"\navg_total_income_young = young_customers['total_income'].mean()\navg_total_income_young\nprint(\"Rata-rata pendapatan pada nasabah dengan kategori 'young' adalah sebesar\", round(avg_total_income_young))\n# ----------",
      "metadata": {},
      "outputs": [
        {
          "name": "stdout",
          "output_type": "stream",
          "text": [
            "Rata-rata pendapatan pada nasabah dengan kategori 'young' adalah sebesar 26835\n"
          ]
        }
      ],
      "execution_count": 59
    },
    {
      "cell_type": "code",
      "source": "#### mengisi total_income yang memiliki nilai yang hilang pada nasabah kategori \"young\" dengan rata-ratanya\n\ncustomers.loc[(customers['dob_category'] == 'young') & (customers['total_income'].isna()), 'total_income'] = avg_total_income_young\n# ----------",
      "metadata": {},
      "outputs": [],
      "execution_count": 62
    },
    {
      "cell_type": "code",
      "source": "# cek apakah masih ada nilai hilang pada total_income di mana dob_category bernilai ‘young’\n\ncustomers[customers['total_income'] == 'young']['total_income'].isnull().sum()\n# ----------\n",
      "metadata": {},
      "outputs": [
        {
          "data": {
            "text/plain": [
              "0"
            ]
          },
          "execution_count": 63,
          "metadata": {},
          "output_type": "execute_result"
        }
      ],
      "execution_count": 63
    },
    {
      "cell_type": "code",
      "source": "customers.info()\n",
      "metadata": {},
      "outputs": [
        {
          "name": "stdout",
          "output_type": "stream",
          "text": [
            "<class 'pandas.core.frame.DataFrame'>\n",
            "Int64Index: 21470 entries, 0 to 21524\n",
            "Data columns (total 14 columns):\n",
            " #   Column            Non-Null Count  Dtype  \n",
            "---  ------            --------------  -----  \n",
            " 0   children          21470 non-null  int64  \n",
            " 1   days_employed     21470 non-null  float64\n",
            " 2   dob_years         21470 non-null  float64\n",
            " 3   education         21470 non-null  object \n",
            " 4   education_id      21470 non-null  int64  \n",
            " 5   family_status     21470 non-null  object \n",
            " 6   family_status_id  21470 non-null  int64  \n",
            " 7   gender            21470 non-null  object \n",
            " 8   income_type       21470 non-null  object \n",
            " 9   debt              21470 non-null  int64  \n",
            " 10  total_income      19984 non-null  float64\n",
            " 11  purpose           21470 non-null  object \n",
            " 12  dob_category      21470 non-null  object \n",
            " 13  dob_category_id   21470 non-null  int64  \n",
            "dtypes: float64(3), int64(5), object(6)\n",
            "memory usage: 2.5+ MB\n"
          ]
        }
      ],
      "execution_count": 64
    },
    {
      "cell_type": "markdown",
      "source": "Nilai hilang pada kolom `total_income` untuk kategori \"young\" telah diisi.",
      "metadata": {}
    },
    {
      "cell_type": "markdown",
      "source": "##### Mengisi Nilai yang Hilang pada Kolom `total_income` pada Nasabah dengan Kategori Umur `adult`",
      "metadata": {}
    },
    {
      "cell_type": "code",
      "source": "# hitung 'total_income' yang hilang pada nasabah dengan kategori 'adult'\nmissing_adult_total_income = adult_customers['total_income'].isna().sum()\n\nprint(\"Ada\", missing_adult_total_income, \"nilai yang hilang pada nasabah dengan kategori 'adult'.\")\n# ----------",
      "metadata": {},
      "outputs": [
        {
          "name": "stdout",
          "output_type": "stream",
          "text": [
            "Ada 1271 nilai yang hilang pada nasabah dengan kategori 'adult'.\n"
          ]
        }
      ],
      "execution_count": 65
    },
    {
      "cell_type": "code",
      "source": "# total_income rata-rata di mana kolom total_income bernilai \"adult\"\navg_total_income_adult = adult_customers['total_income'].mean()\navg_total_income_adult\nprint(\"Rata-rata pendapatan pada nasabah dengan kategori 'adult' adalah sebesar\", round(avg_total_income_adult))\n# ----------",
      "metadata": {},
      "outputs": [
        {
          "name": "stdout",
          "output_type": "stream",
          "text": [
            "Rata-rata pendapatan pada nasabah dengan kategori 'adult' adalah sebesar 27385\n"
          ]
        }
      ],
      "execution_count": 66
    },
    {
      "cell_type": "code",
      "source": "#### mengisi total_income yang memiliki nilai yang hilang pada nasabah kategori \"adult\" dengan rata-ratanya\n\ncustomers.loc[(customers['dob_category'] == 'adult') & (customers['total_income'].isna()), 'total_income'] = avg_total_income_adult\n# ----------",
      "metadata": {},
      "outputs": [],
      "execution_count": 67
    },
    {
      "cell_type": "code",
      "source": "# cek apakah masih ada nilai hilang pada total_income di mana dob_category bernilai ‘adult’\n\ncustomers[customers['total_income'] == 'adult']['total_income'].isnull().sum()\n# ----------",
      "metadata": {},
      "outputs": [
        {
          "data": {
            "text/plain": [
              "0"
            ]
          },
          "execution_count": 68,
          "metadata": {},
          "output_type": "execute_result"
        }
      ],
      "execution_count": 68
    },
    {
      "cell_type": "code",
      "source": "customers.info()",
      "metadata": {},
      "outputs": [
        {
          "name": "stdout",
          "output_type": "stream",
          "text": [
            "<class 'pandas.core.frame.DataFrame'>\n",
            "Int64Index: 21470 entries, 0 to 21524\n",
            "Data columns (total 14 columns):\n",
            " #   Column            Non-Null Count  Dtype  \n",
            "---  ------            --------------  -----  \n",
            " 0   children          21470 non-null  int64  \n",
            " 1   days_employed     21470 non-null  float64\n",
            " 2   dob_years         21470 non-null  float64\n",
            " 3   education         21470 non-null  object \n",
            " 4   education_id      21470 non-null  int64  \n",
            " 5   family_status     21470 non-null  object \n",
            " 6   family_status_id  21470 non-null  int64  \n",
            " 7   gender            21470 non-null  object \n",
            " 8   income_type       21470 non-null  object \n",
            " 9   debt              21470 non-null  int64  \n",
            " 10  total_income      21255 non-null  float64\n",
            " 11  purpose           21470 non-null  object \n",
            " 12  dob_category      21470 non-null  object \n",
            " 13  dob_category_id   21470 non-null  int64  \n",
            "dtypes: float64(3), int64(5), object(6)\n",
            "memory usage: 2.5+ MB\n"
          ]
        }
      ],
      "execution_count": 69
    },
    {
      "cell_type": "markdown",
      "source": "Nilai hilang pada kolom `total_income` untuk kategori \"adult\" telah diisi.",
      "metadata": {}
    },
    {
      "cell_type": "markdown",
      "source": "##### Mengisi Nilai yang Hilang pada Kolom `total_income` pada Nasabah dengan Kategori Umur `senior`",
      "metadata": {}
    },
    {
      "cell_type": "code",
      "source": "# hitung 'total_income' yang hilang pada nasabah dengan kategori 'senior'\nmissing_senior_total_income = senior_customers['total_income'].isna().sum()\n\nprint(\"Ada\", missing_senior_total_income, \"nilai yang hilang pada nasabah dengan kategori 'senior'.\")\n# ----------",
      "metadata": {},
      "outputs": [
        {
          "name": "stdout",
          "output_type": "stream",
          "text": [
            "Ada 215 nilai yang hilang pada nasabah dengan kategori 'senior'.\n"
          ]
        }
      ],
      "execution_count": 70
    },
    {
      "cell_type": "code",
      "source": "# total_income rata-rata di mana kolom total_income bernilai \"senior\"\navg_total_income_senior = senior_customers['total_income'].mean()\navg_total_income_senior\nprint(\"Rata-rata pendapatan pada nasabah dengan kategori 'senior' adalah sebesar\", round(avg_total_income_senior))\n# ----------",
      "metadata": {},
      "outputs": [
        {
          "name": "stdout",
          "output_type": "stream",
          "text": [
            "Rata-rata pendapatan pada nasabah dengan kategori 'senior' adalah sebesar 23058\n"
          ]
        }
      ],
      "execution_count": 71
    },
    {
      "cell_type": "code",
      "source": "#### mengisi total_income yang memiliki nilai yang hilang pada nasabah kategori \"senior\" dengan rata-ratanya\n\ncustomers.loc[(customers['dob_category'] == 'senior') & (customers['total_income'].isna()), 'total_income'] = avg_total_income_senior\n# ----------",
      "metadata": {},
      "outputs": [],
      "execution_count": 72
    },
    {
      "cell_type": "code",
      "source": "# cek apakah masih ada nilai hilang pada total_income di mana dob_category bernilai ‘senior’\n\ncustomers[customers['total_income'] == 'senior']['total_income'].isnull().sum()\n# ----------",
      "metadata": {},
      "outputs": [
        {
          "data": {
            "text/plain": [
              "0"
            ]
          },
          "execution_count": 73,
          "metadata": {},
          "output_type": "execute_result"
        }
      ],
      "execution_count": 73
    },
    {
      "cell_type": "code",
      "source": "customers.info()",
      "metadata": {},
      "outputs": [
        {
          "name": "stdout",
          "output_type": "stream",
          "text": [
            "<class 'pandas.core.frame.DataFrame'>\n",
            "Int64Index: 21470 entries, 0 to 21524\n",
            "Data columns (total 14 columns):\n",
            " #   Column            Non-Null Count  Dtype  \n",
            "---  ------            --------------  -----  \n",
            " 0   children          21470 non-null  int64  \n",
            " 1   days_employed     21470 non-null  float64\n",
            " 2   dob_years         21470 non-null  float64\n",
            " 3   education         21470 non-null  object \n",
            " 4   education_id      21470 non-null  int64  \n",
            " 5   family_status     21470 non-null  object \n",
            " 6   family_status_id  21470 non-null  int64  \n",
            " 7   gender            21470 non-null  object \n",
            " 8   income_type       21470 non-null  object \n",
            " 9   debt              21470 non-null  int64  \n",
            " 10  total_income      21470 non-null  float64\n",
            " 11  purpose           21470 non-null  object \n",
            " 12  dob_category      21470 non-null  object \n",
            " 13  dob_category_id   21470 non-null  int64  \n",
            "dtypes: float64(3), int64(5), object(6)\n",
            "memory usage: 2.5+ MB\n"
          ]
        }
      ],
      "execution_count": 74
    },
    {
      "cell_type": "markdown",
      "source": "Nilai hilang pada kolom `total_income` untuk kategori \"senior\" telah diisi.",
      "metadata": {}
    },
    {
      "cell_type": "markdown",
      "source": "### Pengkategorian Data",
      "metadata": {}
    },
    {
      "cell_type": "markdown",
      "source": "#### Pembuatan Kolom Baru `total_income_category` dan ` total_income_category _id`",
      "metadata": {}
    },
    {
      "cell_type": "code",
      "source": "# cek isi total_income\n\ncustomers['total_income'].describe()",
      "metadata": {},
      "outputs": [
        {
          "data": {
            "text/plain": [
              "count     21470.000000\n",
              "mean      26786.722705\n",
              "std       15646.344787\n",
              "min        3306.762000\n",
              "25%       17224.471500\n",
              "50%       24624.688000\n",
              "75%       31320.082250\n",
              "max      362496.645000\n",
              "Name: total_income, dtype: float64"
            ]
          },
          "execution_count": 75,
          "metadata": {},
          "output_type": "execute_result"
        }
      ],
      "execution_count": 75
    },
    {
      "cell_type": "code",
      "source": "# saya akan membuat kategori pendapatan di mana: \n# 0 – 2.000 = rendah\n# 2.000 – 4.000 = sedang\n# di atas 4.000 = tinggi\n\n# Menggununakan pd.cut untuk mengkategorikan total_income\ncustomers['total_income_category'] = pd.cut(customers['total_income'],\n                                  bins=[0, 20000, 40000, float('inf')],\n                                  labels=['rendah', 'sedang', 'tinggi'],\n                                  right=False)",
      "metadata": {},
      "outputs": [],
      "execution_count": 78
    },
    {
      "cell_type": "code",
      "source": "# Mengubah tipe data kolom 'total_income_category' menjadi objek\ncustomers['total_income_category'] = customers['total_income_category'].astype('object')",
      "metadata": {},
      "outputs": [],
      "execution_count": 79
    },
    {
      "cell_type": "code",
      "source": "# Cek hasil\ncustomers['total_income_category']\n# ----------",
      "metadata": {},
      "outputs": [
        {
          "data": {
            "text/plain": [
              "0        tinggi\n",
              "1        rendah\n",
              "2        sedang\n",
              "3        tinggi\n",
              "4        sedang\n",
              "          ...  \n",
              "21520    sedang\n",
              "21521    sedang\n",
              "21522    rendah\n",
              "21523    sedang\n",
              "21524    rendah\n",
              "Name: total_income_category, Length: 21470, dtype: object"
            ]
          },
          "execution_count": 80,
          "metadata": {},
          "output_type": "execute_result"
        }
      ],
      "execution_count": 80
    },
    {
      "cell_type": "code",
      "source": "# Membuat kolom baru 'total_income_category_id' \n\ncustomers['total_income_category_id'] = customers['total_income_category'].map({'rendah': 1, 'sedang': 2, 'tinggi': 3})\n",
      "metadata": {},
      "outputs": [],
      "execution_count": 81
    },
    {
      "cell_type": "code",
      "source": "# Mengubah tipe data kolom 'total_income_category_id' menjadi integer\ncustomers['total_income_category_id'] = customers['total_income_category_id'].astype(int)\n",
      "metadata": {},
      "outputs": [],
      "execution_count": 82
    },
    {
      "cell_type": "code",
      "source": "# Cek hasil\ncustomers['total_income_category_id']",
      "metadata": {
        "scrolled": true
      },
      "outputs": [
        {
          "data": {
            "text/plain": [
              "0        3\n",
              "1        1\n",
              "2        2\n",
              "3        3\n",
              "4        2\n",
              "        ..\n",
              "21520    2\n",
              "21521    2\n",
              "21522    1\n",
              "21523    2\n",
              "21524    1\n",
              "Name: total_income_category_id, Length: 21470, dtype: int64"
            ]
          },
          "execution_count": 83,
          "metadata": {},
          "output_type": "execute_result"
        }
      ],
      "execution_count": 83
    },
    {
      "cell_type": "markdown",
      "source": "#### Pembuatan kolom baru `children_category` dan `children_category_id`",
      "metadata": {}
    },
    {
      "cell_type": "code",
      "source": "# membuat kolom baru 'chilren_category'\n\ncustomers['children_category'] = customers['children'].apply(lambda x: 'memiliki anak' if x > 0 else 'tidak memiliki anak')\n",
      "metadata": {},
      "outputs": [],
      "execution_count": 85
    },
    {
      "cell_type": "code",
      "source": "# cek hasil\ncustomers['children_category']\n",
      "metadata": {},
      "outputs": [
        {
          "data": {
            "text/plain": [
              "0              memiliki anak\n",
              "1              memiliki anak\n",
              "2        tidak memiliki anak\n",
              "3              memiliki anak\n",
              "4        tidak memiliki anak\n",
              "                ...         \n",
              "21520          memiliki anak\n",
              "21521    tidak memiliki anak\n",
              "21522          memiliki anak\n",
              "21523          memiliki anak\n",
              "21524          memiliki anak\n",
              "Name: children_category, Length: 21470, dtype: object"
            ]
          },
          "execution_count": 86,
          "metadata": {},
          "output_type": "execute_result"
        }
      ],
      "execution_count": 86
    },
    {
      "cell_type": "code",
      "source": "# Membuat kolom baru 'children_category_id'\n\ncustomers['children_category_id'] = customers['children'].apply(lambda x: 0 if x == 0 else 1)\n",
      "metadata": {},
      "outputs": [],
      "execution_count": 87
    },
    {
      "cell_type": "code",
      "source": "# cek hasil\ncustomers['children_category_id']",
      "metadata": {
        "scrolled": true
      },
      "outputs": [
        {
          "data": {
            "text/plain": [
              "0        1\n",
              "1        1\n",
              "2        0\n",
              "3        1\n",
              "4        0\n",
              "        ..\n",
              "21520    1\n",
              "21521    0\n",
              "21522    1\n",
              "21523    1\n",
              "21524    1\n",
              "Name: children_category_id, Length: 21470, dtype: int64"
            ]
          },
          "execution_count": 88,
          "metadata": {},
          "output_type": "execute_result"
        }
      ],
      "execution_count": 88
    },
    {
      "cell_type": "markdown",
      "source": "#### Pembuatan Kolom Baru Bernama  `purpose_id`",
      "metadata": {}
    },
    {
      "cell_type": "code",
      "source": "# Membuat dictionary mapping dari nilai unik dalam kolom 'purpose' ke kategori numerik\n# di mana, 1 = property, 2 = car, 3 = education, 4 = wedding\n\npurpose_categories = customers['purpose'].unique()\npurpose_mapping = {category: i+1 for i, category in enumerate(purpose_categories)}\n",
      "metadata": {},
      "outputs": [],
      "execution_count": 89
    },
    {
      "cell_type": "code",
      "source": "# Mengganti nilai dalam kolom 'purpose' dengan kategori numerik dan menyimpannya dalam kolom baru 'purpose_id'\ncustomers['purpose_id'] = customers['purpose'].map(purpose_mapping)\n",
      "metadata": {},
      "outputs": [],
      "execution_count": 90
    },
    {
      "cell_type": "code",
      "source": "# cek hasil\ncustomers[['purpose', 'purpose_id']]\n",
      "metadata": {},
      "outputs": [
        {
          "data": {
            "text/html": [
              "<div>\n",
              "<style scoped>\n",
              "    .dataframe tbody tr th:only-of-type {\n",
              "        vertical-align: middle;\n",
              "    }\n",
              "\n",
              "    .dataframe tbody tr th {\n",
              "        vertical-align: top;\n",
              "    }\n",
              "\n",
              "    .dataframe thead th {\n",
              "        text-align: right;\n",
              "    }\n",
              "</style>\n",
              "<table border=\"1\" class=\"dataframe\">\n",
              "  <thead>\n",
              "    <tr style=\"text-align: right;\">\n",
              "      <th></th>\n",
              "      <th>purpose</th>\n",
              "      <th>purpose_id</th>\n",
              "    </tr>\n",
              "  </thead>\n",
              "  <tbody>\n",
              "    <tr>\n",
              "      <th>0</th>\n",
              "      <td>property</td>\n",
              "      <td>1</td>\n",
              "    </tr>\n",
              "    <tr>\n",
              "      <th>1</th>\n",
              "      <td>car</td>\n",
              "      <td>2</td>\n",
              "    </tr>\n",
              "    <tr>\n",
              "      <th>2</th>\n",
              "      <td>property</td>\n",
              "      <td>1</td>\n",
              "    </tr>\n",
              "    <tr>\n",
              "      <th>3</th>\n",
              "      <td>education</td>\n",
              "      <td>3</td>\n",
              "    </tr>\n",
              "    <tr>\n",
              "      <th>4</th>\n",
              "      <td>wedding</td>\n",
              "      <td>4</td>\n",
              "    </tr>\n",
              "    <tr>\n",
              "      <th>...</th>\n",
              "      <td>...</td>\n",
              "      <td>...</td>\n",
              "    </tr>\n",
              "    <tr>\n",
              "      <th>21520</th>\n",
              "      <td>property</td>\n",
              "      <td>1</td>\n",
              "    </tr>\n",
              "    <tr>\n",
              "      <th>21521</th>\n",
              "      <td>car</td>\n",
              "      <td>2</td>\n",
              "    </tr>\n",
              "    <tr>\n",
              "      <th>21522</th>\n",
              "      <td>property</td>\n",
              "      <td>1</td>\n",
              "    </tr>\n",
              "    <tr>\n",
              "      <th>21523</th>\n",
              "      <td>car</td>\n",
              "      <td>2</td>\n",
              "    </tr>\n",
              "    <tr>\n",
              "      <th>21524</th>\n",
              "      <td>car</td>\n",
              "      <td>2</td>\n",
              "    </tr>\n",
              "  </tbody>\n",
              "</table>\n",
              "<p>21470 rows × 2 columns</p>\n",
              "</div>"
            ],
            "text/plain": [
              "         purpose  purpose_id\n",
              "0       property           1\n",
              "1            car           2\n",
              "2       property           1\n",
              "3      education           3\n",
              "4        wedding           4\n",
              "...          ...         ...\n",
              "21520   property           1\n",
              "21521        car           2\n",
              "21522   property           1\n",
              "21523        car           2\n",
              "21524        car           2\n",
              "\n",
              "[21470 rows x 2 columns]"
            ]
          },
          "execution_count": 95,
          "metadata": {},
          "output_type": "execute_result"
        }
      ],
      "execution_count": 95
    },
    {
      "cell_type": "markdown",
      "source": "### Memeriksa Hipotesis",
      "metadata": {}
    },
    {
      "cell_type": "markdown",
      "source": "#### Korelasi antara Memiliki anak dengan Probabilitas Gagal Bayar Pinjaman",
      "metadata": {}
    },
    {
      "cell_type": "markdown",
      "source": "Apakah terdapat korelasi antara memiliki anak dengan probabilitas melakukan gagal bayar pinjaman?",
      "metadata": {}
    },
    {
      "cell_type": "code",
      "source": "# menampilkan persentase tiap kategori anak\n\ndebt_percentage_by_children_category = customers.groupby(['children_category_id', 'children_category'])['debt'].mean() * 100\n\ndebt_percentage_by_children_category\n\n# ----------",
      "metadata": {},
      "outputs": [
        {
          "data": {
            "text/plain": [
              "children_category_id  children_category  \n",
              "0                     tidak memiliki anak    7.535800\n",
              "1                     memiliki anak          9.206953\n",
              "Name: debt, dtype: float64"
            ]
          },
          "execution_count": 96,
          "metadata": {},
          "output_type": "execute_result"
        }
      ],
      "execution_count": 96
    },
    {
      "cell_type": "markdown",
      "source": "Dari data di atas juga dapat disimpulkan bahwa nasabah yang memiliki anak memiliki tingkat gagal bayar yang lebih tinggi (9,21%) dibandingkan dengan individu yang tidak memiliki anak (7,54%).\n",
      "metadata": {}
    },
    {
      "cell_type": "markdown",
      "source": "#### Korelasi antara Status Keluarga dengan Probabilitas Gagal Bayar Pinjaman",
      "metadata": {}
    },
    {
      "cell_type": "markdown",
      "source": "Apakah terdapat korelasi antara status keluarga dengan probabilitas melakukan gagal bayar pinjaman?",
      "metadata": {}
    },
    {
      "cell_type": "code",
      "source": "\n# menampilkan persentase gagal bayar tiap status keluarga\n\ndebt_percentage_by_family_status = customers.groupby(['family_status_id', 'family_status'])['debt'].mean() * 100\n\ndebt_percentage_by_family_status\n\n# ----------",
      "metadata": {},
      "outputs": [
        {
          "data": {
            "text/plain": [
              "family_status_id  family_status    \n",
              "0                 married              7.542126\n",
              "1                 civil partnership    9.322441\n",
              "2                 widow / widower      6.569343\n",
              "3                 divorced             7.112971\n",
              "4                 unmarried            9.750890\n",
              "Name: debt, dtype: float64"
            ]
          },
          "execution_count": 97,
          "metadata": {},
          "output_type": "execute_result"
        }
      ],
      "execution_count": 97
    },
    {
      "cell_type": "markdown",
      "source": "Dari data ini, kita dapat menyimpulkan bahwa ada perbedaan dalam tingkat gagal bayar antara berbagai status keluarga. Secara umum, status keluarga \"widow / widower\" memiliki tingkat gagal bayar yang lebih rendah yakni sebesar 6,57%, sedangkan status keluarga \"unmarried\" memiliki tingkat gagal bayar yang lebih tinggi yakni sebesar 9,75%. \n",
      "metadata": {}
    },
    {
      "cell_type": "markdown",
      "source": "#### Korelasi antara Tingkat Pendapatan dengan Probabilitas Gagal Bayar Pinjaman",
      "metadata": {}
    },
    {
      "cell_type": "markdown",
      "source": "Apakah terdapat korelasi antara tingkat pendapatan dengan probabilitas melakukan gagal bayar pinjaman?",
      "metadata": {}
    },
    {
      "cell_type": "code",
      "source": "# menampilkan persentase gagal bayar tiap tingkat pendapatan\n\ndebt_percentage_by_total_income_category = customers.groupby(['total_income_category_id', 'total_income_category'])['debt'].mean() * 100\n\ndebt_percentage_by_total_income_category\n\n# ----------\n",
      "metadata": {
        "scrolled": true
      },
      "outputs": [
        {
          "data": {
            "text/plain": [
              "total_income_category_id  total_income_category\n",
              "1                         rendah                   8.250780\n",
              "2                         sedang                   8.317832\n",
              "3                         tinggi                   6.899004\n",
              "Name: debt, dtype: float64"
            ]
          },
          "execution_count": 98,
          "metadata": {},
          "output_type": "execute_result"
        }
      ],
      "execution_count": 98
    },
    {
      "cell_type": "markdown",
      "source": "Dari data di atas, terlihat bahwa tingkat gagal bayar cenderung lebih tinggi untuk nasabah dengan pendapatan rendah dan sedang yakni dengan tingkat gagal bayar di atas 8%  dibandingkan dengan nasabah dengan pendapatan tinggi yang sebesar 6,90%. \n",
      "metadata": {}
    },
    {
      "cell_type": "markdown",
      "source": "#### Korelasi antara Tujuan Kredit dengan Probabilitas Gagal Bayar Pinjaman",
      "metadata": {}
    },
    {
      "cell_type": "markdown",
      "source": "Apakah terdapat korelasi antara tujuan kredit dengan probabilitas melakukan gagal bayar pinjaman?",
      "metadata": {}
    },
    {
      "cell_type": "code",
      "source": "# menampilkan persentase gagal bayar tiap tujuan kredit\n\ndebt_percentage_by_purpose = customers.groupby(['purpose_id', 'purpose'])['debt'].mean() * 100\n\ndebt_percentage_by_purpose\n\n# ----------\n",
      "metadata": {},
      "outputs": [
        {
          "data": {
            "text/plain": [
              "purpose_id  purpose  \n",
              "1           property     7.232036\n",
              "2           car          9.354689\n",
              "3           education    9.217738\n",
              "4           wedding      7.965739\n",
              "Name: debt, dtype: float64"
            ]
          },
          "execution_count": 100,
          "metadata": {},
          "output_type": "execute_result"
        }
      ],
      "execution_count": 100
    },
    {
      "cell_type": "markdown",
      "source": "Pinjaman dengan tujuan pembelian mobil dan pendidikan cenderung memiliki tingkat gagal bayar yang lebih tinggi yakni dengan tingkat gagal bayar di atas 9%, sementara pinjaman dengan tujuan properti dan pernikahan memiliki tingkat gagal bayar yang lebih rendah.",
      "metadata": {}
    },
    {
      "cell_type": "markdown",
      "source": "## Kesimpulan Umum",
      "metadata": {}
    },
    {
      "cell_type": "markdown",
      "source": "Dalam penelitian ini dapat disimpulkan sebagai berikut: \n\n**Status Keluarga dan Tingkat Gagal Bayar**\n\nNasabah yang memiliki anak cenderung memiliki tingkat gagal bayar yang lebih tinggi (9,21%) dibandingkan dengan nasabah yang tidak memiliki anak (7,54%). Status keluarga \"widow / widower\" memiliki tingkat gagal bayar yang lebih rendah (6,57%), sementara status keluarga \"unmarried\" memiliki tingkat gagal bayar yang lebih tinggi (9,75%). Hal ini menunjukkan adanya perbedaan dalam tingkat gagal bayar antara berbagai status keluarga.\n\n**Pendapatan dan Tingkat Gagal Bayar**\n\nNasabah dengan pendapatan rendah dan sedang memiliki tingkat gagal bayar yang lebih tinggi, dengan tingkat di atas 8%, dibandingkan dengan nasabah dengan pendapatan tinggi yang memiliki tingkat gagal bayar sekitar 6,90%. Ini menunjukkan bahwa tingkat pendapatan memiliki pengaruh pada risiko gagal bayar, dengan tingkat risiko meningkat seiring dengan penurunan pendapatan.\n\n**Tujuan Pinjaman dan Tingkat Gagal Bayar**\n\nPinjaman dengan tujuan pembelian mobil dan pendidikan cenderung memiliki tingkat gagal bayar yang lebih tinggi, dengan tingkat di atas 9%, sementara pinjaman dengan tujuan properti dan pernikahan memiliki tingkat gagal bayar yang lebih rendah. Ini menunjukkan bahwa tujuan pinjaman juga memengaruhi tingkat risiko gagal bayar.\n\nDengan demikian, faktor-faktor seperti status keluarga, pendapatan, dan tujuan pinjaman memainkan peran penting dalam menentukan tingkat risiko gagal bayar. Informasi ini penting bagi lembaga keuangan guna mengelola risiko dan merancang kebijakan peminjaman yang sesuai dengan profil risiko nasabah.\n",
      "metadata": {}
    }
  ]
}